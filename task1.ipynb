{
 "cells": [
  {
   "cell_type": "code",
   "execution_count": 3,
   "metadata": {},
   "outputs": [],
   "source": [
    "from math import modf"
   ]
  },
  {
   "cell_type": "code",
   "execution_count": 4,
   "metadata": {},
   "outputs": [],
   "source": [
    "A = {\n",
    "    'asasa' : 12212,\n",
    "    'ololo' : \"azazaza\",\n",
    "    'gggg'  : 3.20301,\n",
    "    'hlo'   : [\n",
    "        1, 2, 3\n",
    "    ],\n",
    "    'fff' : {\n",
    "        'a1' : 0,\n",
    "        'a2' : \"vv1112aas\"\n",
    "    }    \n",
    "}\n",
    "B = {\n",
    "    'asasa' : 12212,\n",
    "    'ololo' : \"azazaza\",\n",
    "    'gggg'  : 3.20301,\n",
    "    'hlo'   : [\n",
    "        1, 2, 3,\n",
    "    ],\n",
    "    'fff' : {\n",
    "        'a1' : 0,\n",
    "        'a2' : \"vv1112aas\"\n",
    "    }    \n",
    "}\n"
   ]
  },
  {
   "cell_type": "code",
   "execution_count": 7,
   "metadata": {},
   "outputs": [],
   "source": [
    "def compare_floats(a: float, b:float, precision:int = 5) -> bool:\n",
    "    quantifier = 10**precision\n",
    "    aint = int(modf(a)[1])\n",
    "    bint = int(modf(b)[1])\n",
    "    \n",
    "    if aint != bint:\n",
    "        return False\n",
    "    \n",
    "    afrac = int(modf(modf(a)[0] * quantifier)[1])\n",
    "    bfrac = int(modf(modf(b)[0] * quantifier)[1])\n",
    "                \n",
    "    if afrac != bfrac:\n",
    "        return False\n",
    "                \n",
    "    return True\n",
    "\n",
    "\n",
    "def icompare(A, B, float_precision=5) -> bool:\n",
    "    if type(A) != type(B):\n",
    "        return False\n",
    "    \n",
    "    if A is None:\n",
    "        return True\n",
    "\n",
    "    # dict\n",
    "    if type(A) == dict:\n",
    "        Ak = A.keys()\n",
    "        Bk = B.keys()\n",
    "        \n",
    "        #исключим заведомо отрицательный вариант\n",
    "        if sorted(Ak) != sorted(Bk):\n",
    "            return False\n",
    "\n",
    "        for k in Ak:\n",
    "            if not icompare(A[k], B[k]):\n",
    "                return False\n",
    "\n",
    "    if type(A) == list:\n",
    "        #исключим заведомо отрицательный вариант\n",
    "        if len(A) != len(B):\n",
    "            return False\n",
    "        for i in range(len(A)):\n",
    "            if not icompare(A[i], B[i]):\n",
    "                return False\n",
    "\n",
    "    # str, int, float\n",
    "    if (type(A) in [int, str] and A != B) or \\\n",
    "       (type(A) == float and not compare_floats(A, B, precision=float_precision) ):\n",
    "        return False\n",
    "\n",
    "    return True"
   ]
  },
  {
   "cell_type": "code",
   "execution_count": 8,
   "metadata": {},
   "outputs": [
    {
     "data": {
      "text/plain": [
       "True"
      ]
     },
     "execution_count": 8,
     "metadata": {},
     "output_type": "execute_result"
    }
   ],
   "source": [
    "icompare(A, B)"
   ]
  },
  {
   "cell_type": "code",
   "execution_count": null,
   "metadata": {},
   "outputs": [],
   "source": []
  }
 ],
 "metadata": {
  "kernelspec": {
   "display_name": "Python 3",
   "language": "python",
   "name": "python3"
  },
  "language_info": {
   "codemirror_mode": {
    "name": "ipython",
    "version": 3
   },
   "file_extension": ".py",
   "mimetype": "text/x-python",
   "name": "python",
   "nbconvert_exporter": "python",
   "pygments_lexer": "ipython3",
   "version": "3.6.6"
  }
 },
 "nbformat": 4,
 "nbformat_minor": 2
}
