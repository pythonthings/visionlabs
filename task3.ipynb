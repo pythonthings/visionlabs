{
 "cells": [
  {
   "cell_type": "code",
   "execution_count": 12,
   "metadata": {},
   "outputs": [],
   "source": [
    "\n",
    "import socket\n",
    "import time\n",
    "from datetime import datetime\n",
    "import random\n",
    "\n",
    "logfile = './log.log'\n",
    "# Используем систему мониторинга Graphite\n",
    "# она позволит отправлять по UDP метрики\n",
    "# не блокируя выполнение кода в сервисе\n",
    "CARBON_SERVER = '192.168.0.1'\n",
    "CARBON_PORT = 100\n",
    "\n",
    "#декоратор замеряющий время выполнения функции\n",
    "def timing_record(name): \n",
    "    def inner(func):\n",
    "        def wrapper(*argsf, **kwargsf):\n",
    "            \n",
    "            start_time = time.time()\n",
    "            rc = func(*argsf, **kwargsf) # ВЫПОЛНЕНИЕ\n",
    "            end_time = time.time()\n",
    "            timing_ms = int((end_time - start_time) * 1000)\n",
    "            \n",
    "            message = '%s %d %d\\n' % (name, timing_ms, end_time)\n",
    "            \n",
    "            try:\n",
    "                # отправляем неблокирующее UDP соединение\n",
    "                # оно не будет мешать программе\n",
    "                sock = socket.socket(socket.AF_INET, socket.SOCK_DGRAM)\n",
    "                sock.sendto(bytes(message, \"utf-8\"), (CARBON_SERVER, CARBON_PORT))\n",
    "            except Exception:\n",
    "                # не мешать работе кода, если ошибки в передаче метрики\n",
    "                # ошибка автоматом обнаружится в Graphite, \n",
    "                # когда перестанут приходить значения метрик\n",
    "                pass \n",
    "            \n",
    "            return rc\n",
    "        \n",
    "        return wrapper \n",
    "    return inner\n",
    "\n",
    "# функция которую нужно измерить\n",
    "@timing_record(name=\"FOO\") \n",
    "def func_to_check(param):\n",
    "    delay = random.randint(100, 2000)\n",
    "    time.sleep(delay/1000)\n",
    "    return True\n",
    "\n",
    "# главная функция приложения, из которой вызываются остальные\n",
    "def main(param):\n",
    "    return func_to_check(param=param)"
   ]
  },
  {
   "cell_type": "code",
   "execution_count": 13,
   "metadata": {},
   "outputs": [],
   "source": [
    "# эмулируем параллельный, многократный запуск скрипта\n",
    "import multiprocessing as mp\n",
    "pool = mp.Pool(100)\n"
   ]
  },
  {
   "cell_type": "code",
   "execution_count": 14,
   "metadata": {},
   "outputs": [
    {
     "data": {
      "text/plain": [
       "0"
      ]
     },
     "execution_count": 14,
     "metadata": {},
     "output_type": "execute_result"
    }
   ],
   "source": [
    "#прогон на 1000 запусков\n",
    "params = list(range(1000))\n",
    "pool.map(main, params)\n",
    "0"
   ]
  },
  {
   "cell_type": "code",
   "execution_count": null,
   "metadata": {},
   "outputs": [],
   "source": []
  }
 ],
 "metadata": {
  "kernelspec": {
   "display_name": "Python 3",
   "language": "python",
   "name": "python3"
  },
  "language_info": {
   "codemirror_mode": {
    "name": "ipython",
    "version": 3
   },
   "file_extension": ".py",
   "mimetype": "text/x-python",
   "name": "python",
   "nbconvert_exporter": "python",
   "pygments_lexer": "ipython3",
   "version": "3.6.6"
  }
 },
 "nbformat": 4,
 "nbformat_minor": 2
}
